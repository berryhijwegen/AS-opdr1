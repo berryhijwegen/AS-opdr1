{
 "cells": [
  {
   "cell_type": "markdown",
   "metadata": {},
   "source": [
    "# Inleveropgave 2: Model-Free Prediction and Control"
   ]
  },
  {
   "cell_type": "markdown",
   "metadata": {},
   "source": [
    "### Imports"
   ]
  },
  {
   "cell_type": "code",
   "execution_count": 1,
   "metadata": {},
   "outputs": [],
   "source": [
    "import numpy as np\n",
    "import pandas as pd\n",
    "from collections import defaultdict\n",
    "import seaborn as sns\n",
    "import matplotlib.pyplot as plt\n",
    "from tqdm import tqdm"
   ]
  },
  {
   "cell_type": "markdown",
   "metadata": {},
   "source": [
    "## Voorbereiding\n",
    "Kopiëren van base class vanuit vorige opdracht aangevuld met een policy visualization method."
   ]
  },
  {
   "cell_type": "code",
   "execution_count": 2,
   "metadata": {},
   "outputs": [],
   "source": [
    "class Maze():\n",
    "    def __init__(self, rewards: np.array, exit_positions: list, chance: float):\n",
    "        \"\"\" Initialize maze\n",
    "        :param rewards: 2D array of rewards\n",
    "        :param exit_positions: list of exit positions\n",
    "        :param chance: chance of moving to the chosen state\n",
    "        \"\"\"\n",
    "        self.rewards = rewards\n",
    "        # Use exploring starts\n",
    "        self.exit_positions = exit_positions\n",
    "        self.start_pos = self.get_random_position()\n",
    "        self.chance = chance\n",
    "\n",
    "        # bind moves to constant\n",
    "        self.actions = {\n",
    "            \"UP\": (-1, 0),\n",
    "            \"DOWN\": (1, 0),\n",
    "            \"LEFT\": (0, -1),\n",
    "            \"RIGHT\": (0, 1),\n",
    "        }\n",
    "        self.list_actions = list(self.actions.keys())\n",
    "\n",
    "    def get_random_position(self):\n",
    "        \"\"\" Retrieve random position from grid exlcuding exit positions\n",
    "        :return: random position in grid\n",
    "        \"\"\"\n",
    "        while True:\n",
    "            x = np.random.randint(0, self.rewards.shape[0])\n",
    "            y = np.random.randint(0, self.rewards.shape[1])\n",
    "            if (x, y) not in self.exit_positions:\n",
    "                return (x, y)\n",
    "\n",
    "\n",
    "    def reset(self):\n",
    "        \"\"\" Reset the environment to a random start state \"\"\"\n",
    "        self.start_pos = self.get_random_position()\n",
    "\n",
    "    def get_action_with_probabilities(self, desired_action: str):\n",
    "        \"\"\" Take probabilities into account while choosing action\t\n",
    "        :param desired_action: chosen action\n",
    "        :return: action with probabilities taken into account\n",
    "        \"\"\"\n",
    "\n",
    "        other_actions = list(set(self.list_actions)- {desired_action})\n",
    "        chance_left = 1 - self.chance\n",
    "        chance_per_action = round(chance_left / len(other_actions), 1)\n",
    "        other_probabilities = [chance_per_action for _ in range(0, len(other_actions))]\n",
    "\n",
    "        return np.random.choice(\n",
    "            [desired_action, *other_actions],\n",
    "            replace=False,\n",
    "            p=[self.chance, *other_probabilities]\n",
    "        )\n",
    "    \n",
    "    def get_next_position(self, location: tuple, action: str):\n",
    "        \"\"\" Get next position giving a certain action\n",
    "        :param location: current position\n",
    "        :param action: chosen action\n",
    "        \"\"\"\n",
    "        actual_action = self.get_action_with_probabilities(action)\n",
    "        x_dim, y_dim = self.rewards.shape\n",
    "        y, x = location\n",
    "        next_y, next_x = self.actions[actual_action]\n",
    "        next_x += x\n",
    "        next_y += y\n",
    "\n",
    "        # Check if position is inside grid, else stay in same place\n",
    "        if (next_x >= 0 and next_x < x_dim and next_y >= 0 and next_y < y_dim):\n",
    "            return (next_y, next_x)\n",
    "\n",
    "        return location\n",
    "    \n",
    "    def value_iteration(self, theta: float = 0.001):\n",
    "        \"\"\" Value iteration algorithm\n",
    "        :param theta: threshold for convergence\n",
    "        :return: optimal policy\n",
    "        \"\"\"\n",
    "        n_actions = len(self.list_actions)\n",
    "        V = np.zeros(self.rewards.shape)\n",
    "        while True:\n",
    "            delta = 0\n",
    "            for y in range(self.rewards.shape[0]):\n",
    "                for x in range(self.rewards.shape[1]):  \n",
    "                    location = (y, x)\n",
    "                    if location in self.exit_positions:\n",
    "                        continue\n",
    "\n",
    "                    # Find best action\n",
    "                    A = self.lookahead_step(location, V)\n",
    "                    max_val = np.max(A)\n",
    "                    delta = max(delta, np.abs(max_val - V[location]))\n",
    "                    # Update value function\n",
    "                    V[location] = max_val\n",
    "            if delta < theta:\n",
    "                break\n",
    "\n",
    "        V = np.add(V, self.rewards)\n",
    "\n",
    "        # Generate policy by using optimal value function\n",
    "        policy = np.zeros([self.rewards.shape[0], self.rewards.shape[1], n_actions])\n",
    "        for y in range(self.rewards.shape[0]):\n",
    "            for x in range(self.rewards.shape[1]):\n",
    "                location = (y, x)\n",
    "\n",
    "                A = self.lookahead_step(location, V)\n",
    "                best_action = np.argmax(A)\n",
    "                policy[y, x, best_action] = 1.0\n",
    "\n",
    "        return policy, V\n",
    "\n",
    "    def lookahead_step(self, location: tuple, V: np.array, discount_factor: float = 1.0):\n",
    "        \"\"\" Find most optimal step\n",
    "        :param location: current position\n",
    "        :param V: value function\n",
    "        :param discount_factor: discount factor\n",
    "        \"\"\"\n",
    "        n_actions = len(self.list_actions)\n",
    "        A = np.zeros(n_actions)\n",
    "        a_idx = 0\n",
    "        for action in self.list_actions:\n",
    "            next_state = self.get_next_position(location, action)\n",
    "            if next_state == location:\n",
    "                continue\n",
    "            A[a_idx] = self.chance * (self.rewards[next_state] + discount_factor * V[next_state])\n",
    "            a_idx += 1\n",
    "        return A\n",
    "    \n",
    "    def generate_random_policy(self):\n",
    "        \"\"\" Generate random policy\n",
    "        :return: random policy\n",
    "        \"\"\"\n",
    "        n_actions = len(self.list_actions)\n",
    "        # Generate policy by taking random actions from action list\n",
    "        policy = np.zeros([self.rewards.shape[0], self.rewards.shape[1], n_actions])\n",
    "        for y in range(self.rewards.shape[0]):\n",
    "            for x in range(self.rewards.shape[1]):\n",
    "                best_action = np.random.randint(0, n_actions)\n",
    "                policy[y, x, best_action] = 1.0\n",
    "\n",
    "        return policy\n",
    "    \n",
    "    def run(self, policy):\n",
    "        \"\"\" Run the policy on the environment\n",
    "        :param policy: policy to run\n",
    "        :return: states visited, actions taken, rewards received\n",
    "        \"\"\"\n",
    "        location = self.start_pos\n",
    "        states = [location]\n",
    "        actions = []\n",
    "        rewards = [0]\n",
    "        while True:\n",
    "            action_idx = np.argmax(policy[location])\n",
    "            action = self.list_actions[action_idx]\n",
    "            location, reward, done = self.step(location, action)\n",
    "            states.append(location)\n",
    "            actions.append(action)\n",
    "            rewards.append(reward)\n",
    "            if done:\n",
    "                break\n",
    "        return states, actions, rewards\n",
    "\n",
    "    def step(self, state, action):\n",
    "        \"\"\" Take action in state\n",
    "        :param state: current state\n",
    "        :param action: action to take\n",
    "        :return: next state, reward, done\n",
    "        \"\"\"\n",
    "        next_state = self.get_next_position(state, action)\n",
    "        reward = self.rewards[next_state]\n",
    "        done = next_state in self.exit_positions\n",
    "        return next_state, reward, done\n",
    "        \n",
    "    def visualize_policy(self, policy):\n",
    "        \"\"\" Visualize policy\n",
    "        :param policy: policy to visualize\n",
    "        :return: dataframe visualizing policy\n",
    "        \"\"\"\n",
    "        argmaxed_policy = np.argmax(policy, axis=-1)\n",
    "        visual_policy = np.vectorize(self.list_actions.__getitem__)(argmaxed_policy)\n",
    "\n",
    "        return pd.DataFrame(data=visual_policy)\n",
    "\n",
    "    def test_agent(self, Q, n_tests, epsilon = 1):\n",
    "        \"\"\" Test agent for SARSA\n",
    "        :param Q: Q-table\n",
    "        :param n_tests: number of tests\n",
    "        :param epsilon: epsilon for epsilon-greedy\n",
    "        \"\"\"\n",
    "        n_actions = len(self.list_actions)\n",
    "        for test in range(n_tests):\n",
    "            print(f\"Test #{test} ----------------\")\n",
    "            print(f\"Starting at {self.start_pos}\")\n",
    "            s = self.start_pos\n",
    "            while True:\n",
    "                a = epsilon_greedy(Q, epsilon, n_actions, s, train=True)\n",
    "                s, _, done = self.step(s, self.list_actions[a])\n",
    "                print(f\"Chosen action: {self.list_actions[a]} New state: {s}\")\n",
    "                if done:\n",
    "                    if s != self.start_pos:\n",
    "                        print(f\"Successfully reached exit {s}\")\n",
    "                    else:\n",
    "                        print(\"Failed\")\n",
    "                    break\n",
    "            self.reset()"
   ]
  },
  {
   "cell_type": "markdown",
   "metadata": {},
   "source": [
    "## 1. Model-Free Prediction\n",
    "De enige manier om erachter te komen hoe de wereld in elkaar zit voor mensen, is door de wereld te ervaren. We worden ouder, we maken fouten, af en toe doen we iets goed, daar krijgen we dan meestal een beloning voor. Langzaam maar zeker evolueert ons model. Deze vorm van ervaring op doen noemen we \"Sampling\" in het veld van Reinforcement Learning. Om een value-function te krijgen zonder gegeven model van de wereld kunnen we dit idee toepassen.\n",
    "### 1.1 Monte-Carlo Policy Evaluation\n",
    "Implementeer Monte-Carlo Policy evaluation en voer deze uit op de doolhof. Evalueer daarmee twee policies met γ=0.9 en γ=1.\n",
    "\n",
    "π0, de random policy. Deze doet altijd een random, legale, actie.\n",
    "\n",
    "π∗, de optimale policy. Deze heb je de vorige opdracht al weten te bepalen met behulp van Value Iteration.\n",
    "\n",
    "![Monte Carlo Policy Evaluation](images/montecarlopolicyeval.png \"Monte Carlo Policy Evaluation\")"
   ]
  },
  {
   "cell_type": "markdown",
   "metadata": {},
   "source": [
    "#### Algorithm"
   ]
  },
  {
   "cell_type": "code",
   "execution_count": 3,
   "metadata": {},
   "outputs": [],
   "source": [
    "class MazeEvaluate(Maze):\n",
    "    def evaluate_policy(self, policy, n_episodes, discount_factor=1.0):\n",
    "        \"\"\" Evaluate a policy by using the `run_episode` method.\n",
    "        :param policy: A policy to be evaluated.\n",
    "        :param n_episodes: Number of episodes to be used for evaluation.\n",
    "        :param discount_factor: Gamma discount factor.\n",
    "        :return: A list containing the cumulative rewards of each episode.\n",
    "        \"\"\"\n",
    "        returns_sum = np.zeros(self.rewards.shape)\n",
    "        returns_count = np.zeros(self.rewards.shape)\n",
    "\n",
    "        V = np.zeros(self.rewards.shape)\n",
    "\n",
    "        for _ in tqdm(range(1, n_episodes + 1)):\n",
    "            # Generate an episode by running the run method this returns states, actions and rewards.\n",
    "            episode = self.run(policy)\n",
    "\n",
    "            G = 0\n",
    "            states = episode[0]\n",
    "            rewards = episode[2]\n",
    "            for idx in range(len(states) - 2, 0, -1):\n",
    "                curr_state = states[idx]\n",
    "                G = discount_factor * G + rewards[idx + 1]\n",
    "                if curr_state not in states[:idx - 1]:\n",
    "                    returns_sum[curr_state] += G\n",
    "                    returns_count[curr_state] += 1.0\n",
    "                    V[curr_state] = returns_sum[curr_state] / returns_count[curr_state]\n",
    "            self.reset()\n",
    "        return V"
   ]
  },
  {
   "cell_type": "markdown",
   "metadata": {},
   "source": [
    "#### Setup environment"
   ]
  },
  {
   "cell_type": "code",
   "execution_count": 4,
   "metadata": {},
   "outputs": [],
   "source": [
    "exit_positions = [(3, 0), (0, 3), (3, 1)]\n",
    "rewards = np.array([\n",
    "    [-1, -1, -1, 40],\n",
    "    [-1, -1, -10, -10],\n",
    "    [-1, -1, -1, -1],\n",
    "    [10, -2, -1, -1],\n",
    "])\n",
    "chance = .7\n",
    "maze = MazeEvaluate(\n",
    "    rewards,\n",
    "    exit_positions,\n",
    "    chance\n",
    ")"
   ]
  },
  {
   "cell_type": "markdown",
   "metadata": {},
   "source": [
    "#### Calculate optimal and random policy"
   ]
  },
  {
   "cell_type": "code",
   "execution_count": 5,
   "metadata": {},
   "outputs": [],
   "source": [
    "optimal_policy, v = maze.value_iteration()\n",
    "random_policy = maze.generate_random_policy()"
   ]
  },
  {
   "cell_type": "markdown",
   "metadata": {},
   "source": [
    "#### Evaluate & visualize policies"
   ]
  },
  {
   "cell_type": "code",
   "execution_count": 6,
   "metadata": {},
   "outputs": [],
   "source": [
    "maze = MazeEvaluate(\n",
    "    rewards,\n",
    "    exit_positions,\n",
    "    chance\n",
    ")"
   ]
  },
  {
   "cell_type": "code",
   "execution_count": 7,
   "metadata": {},
   "outputs": [
    {
     "name": "stderr",
     "output_type": "stream",
     "text": [
      "100%|██████████| 1000/1000 [00:02<00:00, 456.15it/s]\n",
      "100%|██████████| 1000/1000 [00:02<00:00, 427.46it/s]\n",
      "100%|██████████| 1000/1000 [00:01<00:00, 778.02it/s]\n",
      "100%|██████████| 1000/1000 [00:01<00:00, 742.19it/s]\n"
     ]
    },
    {
     "data": {
      "image/png": "[encoded data removed]",
      "text/plain": [
       "<Figure size 1440x720 with 4 Axes>"
      ]
     },
     "metadata": {
      "needs_background": "light"
     },
     "output_type": "display_data"
    }
   ],
   "source": [
    "n_episodes = 1000\n",
    "opt_policy_discount_1 = maze.evaluate_policy(optimal_policy, n_episodes, discount_factor = 1)\n",
    "opt_policy_discount_09 = maze.evaluate_policy(optimal_policy, n_episodes, discount_factor = .9)\n",
    "rand_policy_discount_1 = maze.evaluate_policy(random_policy, n_episodes, discount_factor = 1)\n",
    "rand_policy_discount_09 = maze.evaluate_policy(random_policy, n_episodes, discount_factor = .9)\n",
    "\n",
    "fig, (ax1, ax2, ax3, ax4) = plt.subplots(1, 4)\n",
    "fig.set_size_inches(20, 10)\n",
    "sns.heatmap(opt_policy_discount_1, annot=True, square=True, cbar=False, ax=ax1)\n",
    "sns.heatmap(opt_policy_discount_09, annot=True, square=True, cbar=False, ax=ax2)\n",
    "# Random Policy\n",
    "sns.heatmap(rand_policy_discount_1, annot=True, square=True, cbar=False, ax=ax3)\n",
    "sns.heatmap(rand_policy_discount_09, annot=True, square=True, cbar=False, ax=ax4)\n",
    "\n",
    "ax1.set_title(r'Optimal Policy γ = 1')\n",
    "ax2.set_title(r'Optimal Policy γ = .9')\n",
    "ax3.set_title(r'Random Policy γ = 1')\n",
    "ax4.set_title(r'Random Policy γ = .9')\n",
    "\n",
    "plt.show()"
   ]
  },
  {
   "cell_type": "markdown",
   "metadata": {},
   "source": [
    "## 1.2 Temporal Difference Learning"
   ]
  },
  {
   "cell_type": "markdown",
   "metadata": {},
   "source": [
    "Een nadeel aan MCPE is dat je mogelijk dood gaat voordat je erachter komt dat je bijna dood ging. Een methode die dit soort problemen kan voorkomen is Temporal Difference Learning. Oftewel TD-learning.\n",
    "Implementeer TD-Learning. En voer weer met dezelfde twee policies uit met γ=0.9 en γ=1.\n",
    "\n",
    "![Temporal Difference Learning](images/TD-learning.png \"Temporal Difference Learning\")"
   ]
  },
  {
   "cell_type": "markdown",
   "metadata": {},
   "source": [
    "#### Algorithm"
   ]
  },
  {
   "cell_type": "code",
   "execution_count": 8,
   "metadata": {},
   "outputs": [],
   "source": [
    "class MazeTDLearing(Maze):\n",
    "    def tabular_td(self, policy, alpha, discount_factor = 1.0):\n",
    "        \"\"\" Temporal Difference Learning algorithm\n",
    "        :param policy: policy to be learned\n",
    "        :param alpha: learning rate\n",
    "        :param discount_factor: discount factor\n",
    "        \"\"\"\n",
    "\n",
    "        V = np.random.random(self.rewards.shape)\n",
    "        for exit_pos in self.exit_positions:\n",
    "            V[exit_pos] = 0\n",
    "\n",
    "        for _ in tqdm(range(n_episodes)):\n",
    "            # Pick an action\n",
    "            location = self.start_pos\n",
    "            while True:\n",
    "                action = np.argmax(policy[location])\n",
    "                next_location, reward, done = self.step(location, self.list_actions[action])\n",
    "                V[location] += alpha * (reward + discount_factor * V[next_location] - V[location])  \n",
    "                location = next_location\n",
    "                if done:\n",
    "                    break\n",
    "        self.reset()\n",
    "        return V"
   ]
  },
  {
   "cell_type": "markdown",
   "metadata": {},
   "source": [
    "#### Evaluate & visualize policies"
   ]
  },
  {
   "cell_type": "code",
   "execution_count": 9,
   "metadata": {},
   "outputs": [],
   "source": [
    "td_maze = MazeTDLearing(\n",
    "    rewards,\n",
    "    exit_positions,\n",
    "    chance\n",
    ")"
   ]
  },
  {
   "cell_type": "code",
   "execution_count": 10,
   "metadata": {},
   "outputs": [
    {
     "name": "stderr",
     "output_type": "stream",
     "text": [
      "100%|██████████| 1000/1000 [00:03<00:00, 267.94it/s]\n",
      "100%|██████████| 1000/1000 [00:00<00:00, 1865.26it/s]\n",
      "100%|██████████| 1000/1000 [00:01<00:00, 599.33it/s]\n",
      "100%|██████████| 1000/1000 [00:01<00:00, 898.40it/s]\n"
     ]
    },
    {
     "data": {
      "image/png": "[encoded data removed]",
      "text/plain": [
       "<Figure size 1440x720 with 4 Axes>"
      ]
     },
     "metadata": {
      "needs_background": "light"
     },
     "output_type": "display_data"
    }
   ],
   "source": [
    "opt_policy_discount_1 = td_maze.tabular_td(optimal_policy, .1, discount_factor = 1)\n",
    "opt_policy_discount_09 = td_maze.tabular_td(optimal_policy, .1, discount_factor = .9)\n",
    "rand_policy_discount_1 = td_maze.tabular_td(random_policy, .1, discount_factor = 1)\n",
    "rand_policy_discount_09 = td_maze.tabular_td(random_policy, .1, discount_factor = .9)\n",
    "\n",
    "fig, (ax1, ax2, ax3, ax4) = plt.subplots(1, 4)\n",
    "fig.set_size_inches(20, 10)\n",
    "\n",
    "# Optimal Policy\n",
    "sns.heatmap(opt_policy_discount_1, annot=True, square=True, cbar=False, ax=ax1)\n",
    "sns.heatmap(opt_policy_discount_09, annot=True, square=True, cbar=False, ax=ax2)\n",
    "\n",
    "# Random Policy\n",
    "sns.heatmap(rand_policy_discount_1, annot=True, square=True, cbar=False, ax=ax3)\n",
    "sns.heatmap(rand_policy_discount_09, annot=True, square=True, cbar=False, ax=ax4)\n",
    "\n",
    "ax1.set_title(r'Optimal Policy γ = 1')\n",
    "ax2.set_title(r'Optimal Policy γ = .9')\n",
    "ax3.set_title(r'Random Policy γ = 1')\n",
    "ax4.set_title(r'Random Policy γ = .9')\n",
    "\n",
    "plt.show()"
   ]
  },
  {
   "cell_type": "markdown",
   "metadata": {},
   "source": [
    "## 2 Model-Free Control"
   ]
  },
  {
   "cell_type": "markdown",
   "metadata": {},
   "source": [
    "Nu gaan we toe werken naar de laatste stap. Model-Free control. Daarvoor zijn echter twee problemen die we nog niet hebben opgelost. Onze policy evaluation algoritmes baseren de value-function met behulp van wetenschap wat de volgende state S' is gegeven dat we actie a kiezen in huidige state S. Maar deze kennis hebben we helemaal niet! In plaats daarvan kunnen we beter met q-waardes gaan werken. De Q-waarde is een mapping van states en actions naar utility.\n",
    "\n",
    "\n",
    "Het grootste verschil is dat we niet hoeven te weten wat de volgende state is. In plaats daarvan slaan we ergens op wat het de resultaten tot dusver waren toen we in state s, actie a namen en wat daarvan de waarde was.\n",
    "\n",
    "Dan rest ons nog één probleem. Namelijk dat we niet policy iteration of value iteration kunnen toepassen met behulp van een greedy algoritme. Dit leidt namelijk tot sub-optima. In plaats daarvan gebruiken we ε-greedy. ε is een kleine waarde die representatief is voor de kans dat we exploreren, in plaats van exploiteren."
   ]
  },
  {
   "cell_type": "code",
   "execution_count": 11,
   "metadata": {},
   "outputs": [],
   "source": [
    "#Source: https://towardsdatascience.com/reinforcement-learning-temporal-difference-sarsa-q-learning-expected-sarsa-on-python-9fecfda7467e\n",
    "def epsilon_greedy(Q, epsilon, n_actions, s, train=False):\n",
    "    \"\"\"\n",
    "    :param Q: Q values state x action -> value\n",
    "    :param epsilon: for exploration\n",
    "    :param s: number of states\n",
    "    :param train: if true then no random actions selected\n",
    "    \"\"\"\n",
    "    if train or np.random.rand() < epsilon:\n",
    "        action = np.argmax(Q[s[0], s[1], :])\n",
    "    else:\n",
    "        action = np.random.randint(0, n_actions)\n",
    "    return action\n",
    "\n",
    "def init_q_table(state_space: tuple, actions: int, type=\"ones\"):\n",
    "    \"\"\"\n",
    "    :param state_space: tuple x-length, y-length\n",
    "    :param actions: number of actions\n",
    "    :param type: \"ones\" or \"random\" for initialization\n",
    "    :return: Q table\n",
    "    \"\"\"\n",
    "    states_y, states_x = state_space\n",
    "\n",
    "    if type == \"ones\":\n",
    "        return np.ones((states_y, states_x, actions))\n",
    "    elif type == \"random\":\n",
    "        return np.random.random((states_y, states_x, actions))\n"
   ]
  },
  {
   "cell_type": "markdown",
   "metadata": {},
   "source": [
    "## 2.1 On-policy first-visit Monte-Carlo Control\n",
    "De conceptueel simpelste oplossing is er weer een die we ondertussen zouden moeten herkennen.\n",
    "\n",
    "Voer nadat je deze hebt geimplementeerd je functie weer op de doolhof uit met γ=0.9 en γ=1 en laat visueel zien wat de uiteindelijke policy is. De policy komt terecht in wat we een Q-table noemen. Dus print deze uit bijvoorbeeld.\n",
    "\n",
    "![On-policy first-visit Monte-Carlo Control](images/On-Policy_first-visit_MC_control.png \"On-policy first-visit Monte-Carlo Control\")"
   ]
  },
  {
   "cell_type": "markdown",
   "metadata": {},
   "source": [
    "#### Algorithm"
   ]
  },
  {
   "cell_type": "code",
   "execution_count": 12,
   "metadata": {},
   "outputs": [],
   "source": [
    "class firstVisitMCMaze(Maze):\n",
    "    def first_visit_mc(self, policy, discount_factor=1, epsilon=1.0, episodes=1000):\n",
    "        \"\"\" On-policy first-visit Monte-Carlo Control\n",
    "        :param policy: policy to be learned\n",
    "        :param discount_factor: discount factor\n",
    "        :param epsilon: for exploration - adds randomness to chosen action\n",
    "        :param episodes: number of episodes\n",
    "        :return: Q table\n",
    "        :return: trained policy\n",
    "        \"\"\"\n",
    "        state_space = self.rewards.shape\n",
    "        n_actions = len(self.list_actions)\n",
    "\n",
    "        Q = init_q_table(state_space, n_actions, type=\"random\")\n",
    "        state_actions_count = defaultdict(int)\n",
    "        returns = defaultdict(float)\n",
    "\n",
    "        for _ in tqdm(range(episodes)):\n",
    "            states, actions, rewards = self.run(policy)\n",
    "            G = 0\n",
    "\n",
    "            # Initialize epsilon\n",
    "            epsilon = max(epsilon * 0.95, 0.01)\n",
    "\n",
    "            state_actions_in_episode = list(zip(states, actions))\n",
    "            for t in range(len(actions) - 1, 0, -1):\n",
    "                G = discount_factor * G + rewards[t]\n",
    "                if not (states[t], actions[t]) in state_actions_in_episode[:t]:\n",
    "                    action = self.list_actions.index(actions[t])\n",
    "                    returns[(states[t], action)] += G\n",
    "                    state_actions_count[(states[t], action)] += 1\n",
    "                    Q[(*states[t],action)] = returns[(states[t], action)] / state_actions_count[(states[t], action)]\n",
    "\n",
    "                    best_action = np.argmax(Q[states[t]])\n",
    "\n",
    "                    for a in range(n_actions): # enumerate action space\n",
    "                        if a == best_action:\n",
    "                            policy[states[t]][a] = 1 - epsilon + epsilon / n_actions\n",
    "                        else:\n",
    "                            policy[states[t]][a] = epsilon / n_actions\n",
    "            self.reset()\n",
    "        return Q, policy"
   ]
  },
  {
   "cell_type": "markdown",
   "metadata": {},
   "source": [
    "#### Evaluate & visualize policies"
   ]
  },
  {
   "cell_type": "code",
   "execution_count": 13,
   "metadata": {},
   "outputs": [],
   "source": [
    "q_maze = firstVisitMCMaze(\n",
    "    rewards,\n",
    "    exit_positions,\n",
    "    chance\n",
    ")"
   ]
  },
  {
   "cell_type": "code",
   "execution_count": 14,
   "metadata": {},
   "outputs": [
    {
     "name": "stderr",
     "output_type": "stream",
     "text": [
      "100%|██████████| 10000/10000 [00:03<00:00, 3141.78it/s]\n"
     ]
    },
    {
     "data": {
      "text/html": [
       "<div>\n",
       "<style scoped>\n",
       "    .dataframe tbody tr th:only-of-type {\n",
       "        vertical-align: middle;\n",
       "    }\n",
       "\n",
       "    .dataframe tbody tr th {\n",
       "        vertical-align: top;\n",
       "    }\n",
       "\n",
       "    .dataframe thead th {\n",
       "        text-align: right;\n",
       "    }\n",
       "</style>\n",
       "<table border=\"1\" class=\"dataframe\">\n",
       "  <thead>\n",
       "    <tr style=\"text-align: right;\">\n",
       "      <th></th>\n",
       "      <th>0</th>\n",
       "      <th>1</th>\n",
       "      <th>2</th>\n",
       "      <th>3</th>\n",
       "    </tr>\n",
       "  </thead>\n",
       "  <tbody>\n",
       "    <tr>\n",
       "      <th>0</th>\n",
       "      <td>DOWN</td>\n",
       "      <td>UP</td>\n",
       "      <td>RIGHT</td>\n",
       "      <td>DOWN</td>\n",
       "    </tr>\n",
       "    <tr>\n",
       "      <th>1</th>\n",
       "      <td>DOWN</td>\n",
       "      <td>LEFT</td>\n",
       "      <td>RIGHT</td>\n",
       "      <td>UP</td>\n",
       "    </tr>\n",
       "    <tr>\n",
       "      <th>2</th>\n",
       "      <td>DOWN</td>\n",
       "      <td>DOWN</td>\n",
       "      <td>DOWN</td>\n",
       "      <td>LEFT</td>\n",
       "    </tr>\n",
       "    <tr>\n",
       "      <th>3</th>\n",
       "      <td>UP</td>\n",
       "      <td>UP</td>\n",
       "      <td>LEFT</td>\n",
       "      <td>RIGHT</td>\n",
       "    </tr>\n",
       "  </tbody>\n",
       "</table>\n",
       "</div>"
      ],
      "text/plain": [
       "      0     1      2      3\n",
       "0  DOWN    UP  RIGHT   DOWN\n",
       "1  DOWN  LEFT  RIGHT     UP\n",
       "2  DOWN  DOWN   DOWN   LEFT\n",
       "3    UP    UP   LEFT  RIGHT"
      ]
     },
     "execution_count": 14,
     "metadata": {},
     "output_type": "execute_result"
    }
   ],
   "source": [
    "first_visit_Q, first_visit_policy = q_maze.first_visit_mc(optimal_policy, episodes = 10000)\n",
    "q_maze.visualize_policy(first_visit_policy)"
   ]
  },
  {
   "cell_type": "code",
   "execution_count": 15,
   "metadata": {},
   "outputs": [
    {
     "name": "stderr",
     "output_type": "stream",
     "text": [
      "100%|██████████| 10000/10000 [00:03<00:00, 2973.19it/s]\n"
     ]
    },
    {
     "data": {
      "text/html": [
       "<div>\n",
       "<style scoped>\n",
       "    .dataframe tbody tr th:only-of-type {\n",
       "        vertical-align: middle;\n",
       "    }\n",
       "\n",
       "    .dataframe tbody tr th {\n",
       "        vertical-align: top;\n",
       "    }\n",
       "\n",
       "    .dataframe thead th {\n",
       "        text-align: right;\n",
       "    }\n",
       "</style>\n",
       "<table border=\"1\" class=\"dataframe\">\n",
       "  <thead>\n",
       "    <tr style=\"text-align: right;\">\n",
       "      <th></th>\n",
       "      <th>0</th>\n",
       "      <th>1</th>\n",
       "      <th>2</th>\n",
       "      <th>3</th>\n",
       "    </tr>\n",
       "  </thead>\n",
       "  <tbody>\n",
       "    <tr>\n",
       "      <th>0</th>\n",
       "      <td>UP</td>\n",
       "      <td>RIGHT</td>\n",
       "      <td>RIGHT</td>\n",
       "      <td>DOWN</td>\n",
       "    </tr>\n",
       "    <tr>\n",
       "      <th>1</th>\n",
       "      <td>DOWN</td>\n",
       "      <td>UP</td>\n",
       "      <td>UP</td>\n",
       "      <td>DOWN</td>\n",
       "    </tr>\n",
       "    <tr>\n",
       "      <th>2</th>\n",
       "      <td>DOWN</td>\n",
       "      <td>LEFT</td>\n",
       "      <td>LEFT</td>\n",
       "      <td>DOWN</td>\n",
       "    </tr>\n",
       "    <tr>\n",
       "      <th>3</th>\n",
       "      <td>UP</td>\n",
       "      <td>UP</td>\n",
       "      <td>LEFT</td>\n",
       "      <td>LEFT</td>\n",
       "    </tr>\n",
       "  </tbody>\n",
       "</table>\n",
       "</div>"
      ],
      "text/plain": [
       "      0      1      2     3\n",
       "0    UP  RIGHT  RIGHT  DOWN\n",
       "1  DOWN     UP     UP  DOWN\n",
       "2  DOWN   LEFT   LEFT  DOWN\n",
       "3    UP     UP   LEFT  LEFT"
      ]
     },
     "execution_count": 15,
     "metadata": {},
     "output_type": "execute_result"
    }
   ],
   "source": [
    "first_visit_Q, first_visit_policy = q_maze.first_visit_mc(optimal_policy, episodes = 10000, discount_factor = .9)\n",
    "q_maze.visualize_policy(first_visit_policy)"
   ]
  },
  {
   "cell_type": "markdown",
   "metadata": {},
   "source": [
    "## 2.2 SARSA\n",
    "Monte-Carlo Control is nogal inefficiënt, en we zitten dus weer met dat probleem dat we hele episodes moeten draaien voordat we iets van feedback hebben. De volgende stap is weer een Temporal-Difference-learning-techniek. En is het SARSA-algoritme.\n",
    "\n",
    "Voer net als bij de vorige opdracht uit met γ=0.9 en γ=1 en laat visueel zien (mag ook tekstueel, als het maar duidelijk leesbaar is) wat de uiteindelijke policy is.\n",
    "\n",
    "![SARSA](images/SARSAonPolicyControl.png \"SARSA\")"
   ]
  },
  {
   "cell_type": "markdown",
   "metadata": {},
   "source": [
    "#### Algorithm"
   ]
  },
  {
   "cell_type": "code",
   "execution_count": 16,
   "metadata": {},
   "outputs": [],
   "source": [
    "class sarsaMaze(Maze):\n",
    "    def sarsa(self, learning_rate, gamma, epsilon, n_episodes, max_steps):\n",
    "        \"\"\"\n",
    "        :param learning_rate: learning rate\n",
    "        :param gamma: discount factor\n",
    "        :param epsilon: for exploration - adds randomness to chosen action\n",
    "        :param n_episodes: number of episodes\n",
    "        :param max_steps: max number of steps per episode\n",
    "        :return: Q-table\n",
    "        \"\"\"\n",
    "        state_space = self.rewards.shape\n",
    "        n_actions = len(self.list_actions)\n",
    "        \n",
    "        # Initialize Q-table arbitrarily with exit positions set to 0\n",
    "        Q = init_q_table(state_space, n_actions, type=\"random\")\n",
    "        for exit_pos in self.exit_positions:\n",
    "            Q[exit_pos[0], exit_pos[1], :] = 0\n",
    "\n",
    "        for _ in tqdm(range(n_episodes)):\n",
    "            # initialise state\n",
    "            state = self.start_pos\n",
    "            # choose action from state using policy derived from Q table \n",
    "            action = epsilon_greedy(Q, epsilon, n_actions, state)\n",
    "\n",
    "            for _ in range(max_steps + 1):\n",
    "                # take action and get next state and reward\n",
    "                next_state, reward, done = self.step(state, self.list_actions[action])\n",
    "                # choose action \n",
    "                next_action = epsilon_greedy(Q, epsilon, n_actions, next_state)\n",
    "                # update Q-table\n",
    "                Q[(*state, action)] += learning_rate * (reward + (gamma * Q[(*next_state, next_action)]) - Q[(*state, action)])\n",
    "                # update state                \n",
    "                state, action = next_state, next_action\n",
    "                # check if episode is finished\n",
    "                if done:\n",
    "                    break\n",
    "           \n",
    "            self.reset()\n",
    "        return Q"
   ]
  },
  {
   "cell_type": "markdown",
   "metadata": {},
   "source": [
    "#### Evaluate & visualize policies"
   ]
  },
  {
   "cell_type": "code",
   "execution_count": 17,
   "metadata": {},
   "outputs": [],
   "source": [
    "sarsa_maze = sarsaMaze(\n",
    "    rewards,\n",
    "    exit_positions,\n",
    "    chance\n",
    ")"
   ]
  },
  {
   "cell_type": "code",
   "execution_count": 18,
   "metadata": {},
   "outputs": [
    {
     "name": "stderr",
     "output_type": "stream",
     "text": [
      "100%|██████████| 50000/50000 [00:27<00:00, 1819.43it/s]\n"
     ]
    }
   ],
   "source": [
    "sarsa_Q_1 = sarsa_maze.sarsa(\n",
    "    learning_rate = .1,\n",
    "    gamma = 1,\n",
    "    epsilon = 1,\n",
    "    n_episodes = 50000,\n",
    "    max_steps = 2500\n",
    ")"
   ]
  },
  {
   "cell_type": "code",
   "execution_count": 35,
   "metadata": {},
   "outputs": [
    {
     "name": "stdout",
     "output_type": "stream",
     "text": [
      "Test #0 ----------------\n",
      "Starting at (2, 0)\n",
      "Chosen action: DOWN New state: (3, 0)\n",
      "Successfully reached exit (3, 0)\n",
      "Test #1 ----------------\n",
      "Starting at (1, 0)\n",
      "Chosen action: DOWN New state: (0, 0)\n",
      "Chosen action: RIGHT New state: (0, 1)\n",
      "Chosen action: RIGHT New state: (0, 1)\n",
      "Chosen action: RIGHT New state: (0, 2)\n",
      "Chosen action: RIGHT New state: (0, 3)\n",
      "Successfully reached exit (0, 3)\n"
     ]
    }
   ],
   "source": [
    "sarsa_maze.test_agent(sarsa_Q_1, 2)"
   ]
  },
  {
   "cell_type": "code",
   "execution_count": 20,
   "metadata": {},
   "outputs": [
    {
     "name": "stderr",
     "output_type": "stream",
     "text": [
      "100%|██████████| 50000/50000 [00:18<00:00, 2747.30it/s]\n"
     ]
    }
   ],
   "source": [
    "sarsa_Q_09 = sarsa_maze.sarsa(\n",
    "    learning_rate = .1,\n",
    "    gamma = .9,\n",
    "    epsilon = 1,\n",
    "    n_episodes = 50000,\n",
    "    max_steps = 2500\n",
    ")"
   ]
  },
  {
   "cell_type": "code",
   "execution_count": 21,
   "metadata": {},
   "outputs": [
    {
     "name": "stdout",
     "output_type": "stream",
     "text": [
      "Test #0 ----------------\n",
      "Starting at (1, 2)\n",
      "Chosen action: UP New state: (0, 2)\n",
      "Chosen action: RIGHT New state: (0, 3)\n",
      "Successfully reached exit (0, 3)\n",
      "Test #1 ----------------\n",
      "Starting at (2, 3)\n",
      "Chosen action: UP New state: (1, 3)\n",
      "Chosen action: UP New state: (0, 3)\n",
      "Successfully reached exit (0, 3)\n"
     ]
    }
   ],
   "source": [
    "sarsa_maze.test_agent(sarsa_Q_09, 2)"
   ]
  },
  {
   "cell_type": "code",
   "execution_count": 22,
   "metadata": {},
   "outputs": [
    {
     "data": {
      "text/html": [
       "<div>\n",
       "<style scoped>\n",
       "    .dataframe tbody tr th:only-of-type {\n",
       "        vertical-align: middle;\n",
       "    }\n",
       "\n",
       "    .dataframe tbody tr th {\n",
       "        vertical-align: top;\n",
       "    }\n",
       "\n",
       "    .dataframe thead th {\n",
       "        text-align: right;\n",
       "    }\n",
       "</style>\n",
       "<table border=\"1\" class=\"dataframe\">\n",
       "  <thead>\n",
       "    <tr style=\"text-align: right;\">\n",
       "      <th></th>\n",
       "      <th>0</th>\n",
       "      <th>1</th>\n",
       "      <th>2</th>\n",
       "      <th>3</th>\n",
       "    </tr>\n",
       "  </thead>\n",
       "  <tbody>\n",
       "    <tr>\n",
       "      <th>0</th>\n",
       "      <td>RIGHT</td>\n",
       "      <td>RIGHT</td>\n",
       "      <td>RIGHT</td>\n",
       "      <td>UP</td>\n",
       "    </tr>\n",
       "    <tr>\n",
       "      <th>1</th>\n",
       "      <td>DOWN</td>\n",
       "      <td>UP</td>\n",
       "      <td>UP</td>\n",
       "      <td>UP</td>\n",
       "    </tr>\n",
       "    <tr>\n",
       "      <th>2</th>\n",
       "      <td>DOWN</td>\n",
       "      <td>UP</td>\n",
       "      <td>RIGHT</td>\n",
       "      <td>RIGHT</td>\n",
       "    </tr>\n",
       "    <tr>\n",
       "      <th>3</th>\n",
       "      <td>UP</td>\n",
       "      <td>UP</td>\n",
       "      <td>UP</td>\n",
       "      <td>UP</td>\n",
       "    </tr>\n",
       "  </tbody>\n",
       "</table>\n",
       "</div>"
      ],
      "text/plain": [
       "       0      1      2      3\n",
       "0  RIGHT  RIGHT  RIGHT     UP\n",
       "1   DOWN     UP     UP     UP\n",
       "2   DOWN     UP  RIGHT  RIGHT\n",
       "3     UP     UP     UP     UP"
      ]
     },
     "execution_count": 22,
     "metadata": {},
     "output_type": "execute_result"
    }
   ],
   "source": [
    "sarsa_maze.visualize_policy(sarsa_Q_1)"
   ]
  },
  {
   "cell_type": "code",
   "execution_count": 23,
   "metadata": {},
   "outputs": [
    {
     "data": {
      "text/html": [
       "<div>\n",
       "<style scoped>\n",
       "    .dataframe tbody tr th:only-of-type {\n",
       "        vertical-align: middle;\n",
       "    }\n",
       "\n",
       "    .dataframe tbody tr th {\n",
       "        vertical-align: top;\n",
       "    }\n",
       "\n",
       "    .dataframe thead th {\n",
       "        text-align: right;\n",
       "    }\n",
       "</style>\n",
       "<table border=\"1\" class=\"dataframe\">\n",
       "  <thead>\n",
       "    <tr style=\"text-align: right;\">\n",
       "      <th></th>\n",
       "      <th>0</th>\n",
       "      <th>1</th>\n",
       "      <th>2</th>\n",
       "      <th>3</th>\n",
       "    </tr>\n",
       "  </thead>\n",
       "  <tbody>\n",
       "    <tr>\n",
       "      <th>0</th>\n",
       "      <td>RIGHT</td>\n",
       "      <td>RIGHT</td>\n",
       "      <td>RIGHT</td>\n",
       "      <td>UP</td>\n",
       "    </tr>\n",
       "    <tr>\n",
       "      <th>1</th>\n",
       "      <td>LEFT</td>\n",
       "      <td>UP</td>\n",
       "      <td>UP</td>\n",
       "      <td>UP</td>\n",
       "    </tr>\n",
       "    <tr>\n",
       "      <th>2</th>\n",
       "      <td>DOWN</td>\n",
       "      <td>UP</td>\n",
       "      <td>RIGHT</td>\n",
       "      <td>UP</td>\n",
       "    </tr>\n",
       "    <tr>\n",
       "      <th>3</th>\n",
       "      <td>UP</td>\n",
       "      <td>UP</td>\n",
       "      <td>UP</td>\n",
       "      <td>UP</td>\n",
       "    </tr>\n",
       "  </tbody>\n",
       "</table>\n",
       "</div>"
      ],
      "text/plain": [
       "       0      1      2   3\n",
       "0  RIGHT  RIGHT  RIGHT  UP\n",
       "1   LEFT     UP     UP  UP\n",
       "2   DOWN     UP  RIGHT  UP\n",
       "3     UP     UP     UP  UP"
      ]
     },
     "execution_count": 23,
     "metadata": {},
     "output_type": "execute_result"
    }
   ],
   "source": [
    "sarsa_maze.visualize_policy(sarsa_Q_09)"
   ]
  },
  {
   "cell_type": "markdown",
   "metadata": {},
   "source": [
    "## 2.3 SARSAMAX\n",
    "Tot slot gaan we het meest bekende algoritme van reinforcement learning implementeren. De gateway naar echt goed werkende systemen voor echte problemen. Q-learning a.k.a. SARSAMAX.\n",
    "\n",
    "Het verschil met SARSA is klein, maar in de praktijk blijkt dit algoritme wel veel beter te werken. En het was voor meneer Watkins in 1989 relatief makkelijk om te bewijzen dat dit altijd convergeert naar de optimale policy. Helemaal mooi dus.\n",
    "\n",
    "Implementeer Qlearning - SARSAMAX for off-policy control en voer net als bij de vorige opdracht uit met γ=0.9 en γ=1 en laat visueel zien (mag ook tekstueel, als het maar duidelijk leesbaar is) wat de uiteindelijke policy is. \n",
    "\n",
    "![Q-learning](images/Qlearning.png \"Q-learning\")"
   ]
  },
  {
   "cell_type": "markdown",
   "metadata": {},
   "source": [
    "#### Algorithm"
   ]
  },
  {
   "cell_type": "code",
   "execution_count": 24,
   "metadata": {},
   "outputs": [],
   "source": [
    "class sarsaMaxMaze(Maze):\n",
    "    def sarsa_max(self, learning_rate, gamma, epsilon, n_episodes, max_steps):\n",
    "        \"\"\"\n",
    "        :param learning_rate: learning rate\n",
    "        :param gamma: discount factor\n",
    "        :param epsilon: for exploration - adds randomness to chosen action\n",
    "        :param n_episodes: number of episodes\n",
    "        :param max_steps: max number of steps per episode\n",
    "        :param n_tests: number of tests\n",
    "        :param sarsa_max: if true then use SARSA-MAX\n",
    "        :param test: if true then no random actions selected\n",
    "        :return: Q-table\n",
    "        \"\"\"\n",
    "        state_space = self.rewards.shape\n",
    "        n_actions = len(self.list_actions)\n",
    "        \n",
    "        # Initialize Q-table arbitrarily with exit positions set to 0\n",
    "        Q = init_q_table(state_space, n_actions, type=\"random\")\n",
    "        for exit_pos in self.exit_positions:\n",
    "            Q[exit_pos[0], exit_pos[1], :] = 0\n",
    "\n",
    "        for _ in tqdm(range(n_episodes)):\n",
    "            # initialise state\n",
    "            state = self.start_pos\n",
    "\n",
    "            for _ in range(max_steps + 1):\n",
    "                # choose action from state using policy derived from Q table \n",
    "                action = epsilon_greedy(Q, epsilon, n_actions, state)\n",
    "                # take action and get next state and reward\n",
    "                next_state, reward, done = self.step(state, self.list_actions[action])\n",
    "                # update Q-table\n",
    "                Q[(*state, action)] += learning_rate * (reward + (gamma * np.max(Q[next_state[0], next_state[1], :])) - Q[(*state, action)])\n",
    "                # update state              \n",
    "                state = next_state\n",
    "                # check if episode is finished\n",
    "                if done:\n",
    "                    break\n",
    "            self.reset()\n",
    "        return Q"
   ]
  },
  {
   "cell_type": "markdown",
   "metadata": {},
   "source": [
    "#### Evaluate & visualize policies"
   ]
  },
  {
   "cell_type": "code",
   "execution_count": 25,
   "metadata": {},
   "outputs": [],
   "source": [
    "sarsa_max_maze = sarsaMaxMaze(\n",
    "    rewards,\n",
    "    exit_positions,\n",
    "    chance\n",
    ")"
   ]
  },
  {
   "cell_type": "code",
   "execution_count": 26,
   "metadata": {},
   "outputs": [
    {
     "name": "stderr",
     "output_type": "stream",
     "text": [
      "100%|██████████| 50000/50000 [00:32<00:00, 1539.40it/s]\n"
     ]
    }
   ],
   "source": [
    "sarsa_max_Q_1 = sarsa_max_maze.sarsa_max(\n",
    "    learning_rate = .1,\n",
    "    gamma = 1,\n",
    "    epsilon = 1,\n",
    "    n_episodes = 50000,\n",
    "    max_steps = 2500\n",
    ")"
   ]
  },
  {
   "cell_type": "code",
   "execution_count": 34,
   "metadata": {},
   "outputs": [
    {
     "name": "stdout",
     "output_type": "stream",
     "text": [
      "Test #0 ----------------\n",
      "Starting at (2, 1)\n",
      "Chosen action: LEFT New state: (2, 0)\n",
      "Chosen action: DOWN New state: (3, 0)\n",
      "Successfully reached exit (3, 0)\n",
      "Test #1 ----------------\n",
      "Starting at (2, 0)\n",
      "Chosen action: DOWN New state: (3, 0)\n",
      "Successfully reached exit (3, 0)\n"
     ]
    }
   ],
   "source": [
    "sarsa_max_maze.test_agent(sarsa_max_Q_1, 2)"
   ]
  },
  {
   "cell_type": "code",
   "execution_count": 28,
   "metadata": {},
   "outputs": [
    {
     "name": "stderr",
     "output_type": "stream",
     "text": [
      "100%|██████████| 50000/50000 [00:16<00:00, 3057.41it/s]\n"
     ]
    }
   ],
   "source": [
    "# SARSA-MAX with gamma = .9\n",
    "sarsa_max_Q_09 = sarsa_max_maze.sarsa_max(\n",
    "    learning_rate = .1,\n",
    "    gamma = .9,\n",
    "    epsilon = 1,\n",
    "    n_episodes = 50000,\n",
    "    max_steps = 2500\n",
    ")"
   ]
  },
  {
   "cell_type": "code",
   "execution_count": 33,
   "metadata": {},
   "outputs": [
    {
     "name": "stdout",
     "output_type": "stream",
     "text": [
      "Test #0 ----------------\n",
      "Starting at (0, 0)\n",
      "Chosen action: RIGHT New state: (0, 1)\n",
      "Chosen action: RIGHT New state: (0, 2)\n",
      "Chosen action: RIGHT New state: (0, 3)\n",
      "Successfully reached exit (0, 3)\n",
      "Test #1 ----------------\n",
      "Starting at (1, 2)\n",
      "Chosen action: UP New state: (0, 2)\n",
      "Chosen action: RIGHT New state: (0, 3)\n",
      "Successfully reached exit (0, 3)\n"
     ]
    }
   ],
   "source": [
    "sarsa_max_maze.test_agent(sarsa_max_Q_09, 2)"
   ]
  },
  {
   "cell_type": "code",
   "execution_count": 36,
   "metadata": {},
   "outputs": [
    {
     "data": {
      "text/html": [
       "<div>\n",
       "<style scoped>\n",
       "    .dataframe tbody tr th:only-of-type {\n",
       "        vertical-align: middle;\n",
       "    }\n",
       "\n",
       "    .dataframe tbody tr th {\n",
       "        vertical-align: top;\n",
       "    }\n",
       "\n",
       "    .dataframe thead th {\n",
       "        text-align: right;\n",
       "    }\n",
       "</style>\n",
       "<table border=\"1\" class=\"dataframe\">\n",
       "  <thead>\n",
       "    <tr style=\"text-align: right;\">\n",
       "      <th></th>\n",
       "      <th>0</th>\n",
       "      <th>1</th>\n",
       "      <th>2</th>\n",
       "      <th>3</th>\n",
       "    </tr>\n",
       "  </thead>\n",
       "  <tbody>\n",
       "    <tr>\n",
       "      <th>0</th>\n",
       "      <td>RIGHT</td>\n",
       "      <td>LEFT</td>\n",
       "      <td>RIGHT</td>\n",
       "      <td>UP</td>\n",
       "    </tr>\n",
       "    <tr>\n",
       "      <th>1</th>\n",
       "      <td>DOWN</td>\n",
       "      <td>UP</td>\n",
       "      <td>UP</td>\n",
       "      <td>UP</td>\n",
       "    </tr>\n",
       "    <tr>\n",
       "      <th>2</th>\n",
       "      <td>DOWN</td>\n",
       "      <td>LEFT</td>\n",
       "      <td>LEFT</td>\n",
       "      <td>LEFT</td>\n",
       "    </tr>\n",
       "    <tr>\n",
       "      <th>3</th>\n",
       "      <td>UP</td>\n",
       "      <td>UP</td>\n",
       "      <td>UP</td>\n",
       "      <td>LEFT</td>\n",
       "    </tr>\n",
       "  </tbody>\n",
       "</table>\n",
       "</div>"
      ],
      "text/plain": [
       "       0     1      2     3\n",
       "0  RIGHT  LEFT  RIGHT    UP\n",
       "1   DOWN    UP     UP    UP\n",
       "2   DOWN  LEFT   LEFT  LEFT\n",
       "3     UP    UP     UP  LEFT"
      ]
     },
     "execution_count": 36,
     "metadata": {},
     "output_type": "execute_result"
    }
   ],
   "source": [
    "# SARSA-MAX with gamma = .9\n",
    "sarsa_max_maze.visualize_policy(sarsa_max_Q_1)"
   ]
  },
  {
   "cell_type": "code",
   "execution_count": 37,
   "metadata": {},
   "outputs": [
    {
     "data": {
      "text/html": [
       "<div>\n",
       "<style scoped>\n",
       "    .dataframe tbody tr th:only-of-type {\n",
       "        vertical-align: middle;\n",
       "    }\n",
       "\n",
       "    .dataframe tbody tr th {\n",
       "        vertical-align: top;\n",
       "    }\n",
       "\n",
       "    .dataframe thead th {\n",
       "        text-align: right;\n",
       "    }\n",
       "</style>\n",
       "<table border=\"1\" class=\"dataframe\">\n",
       "  <thead>\n",
       "    <tr style=\"text-align: right;\">\n",
       "      <th></th>\n",
       "      <th>0</th>\n",
       "      <th>1</th>\n",
       "      <th>2</th>\n",
       "      <th>3</th>\n",
       "    </tr>\n",
       "  </thead>\n",
       "  <tbody>\n",
       "    <tr>\n",
       "      <th>0</th>\n",
       "      <td>RIGHT</td>\n",
       "      <td>RIGHT</td>\n",
       "      <td>RIGHT</td>\n",
       "      <td>UP</td>\n",
       "    </tr>\n",
       "    <tr>\n",
       "      <th>1</th>\n",
       "      <td>DOWN</td>\n",
       "      <td>UP</td>\n",
       "      <td>UP</td>\n",
       "      <td>UP</td>\n",
       "    </tr>\n",
       "    <tr>\n",
       "      <th>2</th>\n",
       "      <td>DOWN</td>\n",
       "      <td>LEFT</td>\n",
       "      <td>LEFT</td>\n",
       "      <td>UP</td>\n",
       "    </tr>\n",
       "    <tr>\n",
       "      <th>3</th>\n",
       "      <td>UP</td>\n",
       "      <td>UP</td>\n",
       "      <td>RIGHT</td>\n",
       "      <td>UP</td>\n",
       "    </tr>\n",
       "  </tbody>\n",
       "</table>\n",
       "</div>"
      ],
      "text/plain": [
       "       0      1      2   3\n",
       "0  RIGHT  RIGHT  RIGHT  UP\n",
       "1   DOWN     UP     UP  UP\n",
       "2   DOWN   LEFT   LEFT  UP\n",
       "3     UP     UP  RIGHT  UP"
      ]
     },
     "execution_count": 37,
     "metadata": {},
     "output_type": "execute_result"
    }
   ],
   "source": [
    "# SARSA-MAX with gamma = .9\n",
    "sarsa_max_maze.visualize_policy(sarsa_max_Q_09)"
   ]
  }
 ],
 "metadata": {
  "interpreter": {
   "hash": "a341b69b713934d2d659f16e36a9d340832c7fd893576ce88808a2d432fe46f2"
  },
  "kernelspec": {
   "display_name": "Python 3.8.0 32-bit",
   "language": "python",
   "name": "python3"
  },
  "language_info": {
   "codemirror_mode": {
    "name": "ipython",
    "version": 3
   },
   "file_extension": ".py",
   "mimetype": "text/x-python",
   "name": "python",
   "nbconvert_exporter": "python",
   "pygments_lexer": "ipython3",
   "version": "3.9.7"
  }
 },
 "nbformat": 4,
 "nbformat_minor": 2
}
